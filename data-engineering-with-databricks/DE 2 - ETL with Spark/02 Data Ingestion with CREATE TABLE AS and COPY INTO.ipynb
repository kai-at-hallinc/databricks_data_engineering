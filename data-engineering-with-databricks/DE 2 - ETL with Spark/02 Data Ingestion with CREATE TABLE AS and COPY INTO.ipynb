{
 "cells": [
  {
   "cell_type": "code",
   "execution_count": 0,
   "metadata": {
    "application/vnd.databricks.v1+cell": {
     "cellMetadata": {
      "byteLimit": 2048000,
      "rowLimit": 10000
     },
     "inputWidgets": {},
     "nuid": "762f4547-ce58-4458-b8e4-8a9d03d10d1b",
     "showTitle": false,
     "tableResultSettingsMap": {},
     "title": ""
    }
   },
   "outputs": [],
   "source": [
    "%python\n",
    "\n",
    "dbutils.widgets.text(\"path\", \"dbfs:/mnt/dbacademy-datasets/data-engineer-learning-path/v02/ecommerce/raw/users-historical\")\n",
    "dbutils.widgets.text(\"catalog\", \"test_catalog\")\n",
    "dbutils.widgets.text(\"schema\", \"bronze\")"
   ]
  },
  {
   "cell_type": "code",
   "execution_count": 0,
   "metadata": {
    "application/vnd.databricks.v1+cell": {
     "cellMetadata": {
      "byteLimit": 2048000,
      "implicitDf": true,
      "rowLimit": 10000
     },
     "inputWidgets": {},
     "nuid": "a755f98a-f884-417f-8464-a91f3f528b18",
     "showTitle": true,
     "tableResultSettingsMap": {},
     "title": "schema creation"
    }
   },
   "outputs": [],
   "source": [
    "%sql\n",
    "CREATE SCHEMA IF NOT EXISTS test_catalog.bronze;"
   ]
  },
  {
   "cell_type": "code",
   "execution_count": 0,
   "metadata": {
    "application/vnd.databricks.v1+cell": {
     "cellMetadata": {
      "byteLimit": 2048000,
      "implicitDf": true,
      "rowLimit": 10000
     },
     "collapsed": true,
     "inputWidgets": {},
     "nuid": "86d3b951-e767-405a-8674-9b32d1374e15",
     "showTitle": true,
     "tableResultSettingsMap": {},
     "title": "set catalog"
    }
   },
   "outputs": [],
   "source": [
    "%sql\n",
    "-- List all available catalogs\n",
    "SHOW CATALOGS;\n",
    "\n",
    "-- Use the desired catalog if it exists\n",
    "USE CATALOG test_catalog;\n",
    "USE SCHEMA bronze;"
   ]
  },
  {
   "cell_type": "code",
   "execution_count": 0,
   "metadata": {
    "application/vnd.databricks.v1+cell": {
     "cellMetadata": {
      "byteLimit": 2048000,
      "implicitDf": true,
      "rowLimit": 10000
     },
     "collapsed": true,
     "inputWidgets": {},
     "nuid": "f10a0ed9-2a1e-46d7-95c6-e35c6c059217",
     "showTitle": true,
     "tableResultSettingsMap": {},
     "title": "review current db context"
    }
   },
   "outputs": [],
   "source": [
    "%sql\n",
    "SELECT current_catalog(), current_database()\n"
   ]
  },
  {
   "cell_type": "code",
   "execution_count": 0,
   "metadata": {
    "application/vnd.databricks.v1+cell": {
     "cellMetadata": {
      "byteLimit": 2048000,
      "implicitDf": true,
      "rowLimit": 10000
     },
     "inputWidgets": {},
     "nuid": "57af6974-bf56-4de6-b67e-e8c933116f57",
     "showTitle": true,
     "tableResultSettingsMap": {},
     "title": "list files"
    }
   },
   "outputs": [],
   "source": [
    "%sql\n",
    "\n",
    "LIST '${path}'"
   ]
  },
  {
   "cell_type": "code",
   "execution_count": 0,
   "metadata": {
    "application/vnd.databricks.v1+cell": {
     "cellMetadata": {
      "byteLimit": 2048000,
      "implicitDf": true,
      "rowLimit": 10000
     },
     "inputWidgets": {},
     "nuid": "49d6d896-7de6-43cf-a139-e860cb1c005f",
     "showTitle": true,
     "tableResultSettingsMap": {},
     "title": "select from dbfs parquet"
    }
   },
   "outputs": [],
   "source": [
    "%sql\n",
    "SELECT *\n",
    "FROM parquet .`dbfs:/mnt/dbacademy-datasets/data-engineer-learning-path/v02/ecommerce/raw/users-historical`\n",
    "LIMIT 10;"
   ]
  },
  {
   "cell_type": "code",
   "execution_count": 0,
   "metadata": {
    "application/vnd.databricks.v1+cell": {
     "cellMetadata": {
      "byteLimit": 2048000,
      "implicitDf": true,
      "rowLimit": 10000
     },
     "collapsed": true,
     "inputWidgets": {},
     "nuid": "eae4e4e4-c268-4d2a-b6d5-ebb937db1e8e",
     "showTitle": true,
     "tableResultSettingsMap": {},
     "title": "read parquet with read_files"
    }
   },
   "outputs": [],
   "source": [
    "%sql\n",
    "SELECT *\n",
    "FROM read_files(\n",
    "  'dbfs:/mnt/dbacademy-datasets/data-engineer-learning-path/v02/ecommerce/raw/users-historical',\n",
    "  format => 'parquet'\n",
    ")\n",
    "LIMIT 10;"
   ]
  },
  {
   "cell_type": "code",
   "execution_count": 0,
   "metadata": {
    "application/vnd.databricks.v1+cell": {
     "cellMetadata": {
      "byteLimit": 2048000,
      "implicitDf": true,
      "rowLimit": 10000
     },
     "collapsed": true,
     "inputWidgets": {},
     "nuid": "73b00849-ce84-4f0f-9ff6-9ac45e2837f4",
     "showTitle": true,
     "tableResultSettingsMap": {},
     "title": "create table with read_files"
    }
   },
   "outputs": [],
   "source": [
    "DROP TABLE IF EXISTS test_catalog.default.historical_users_rf;\n",
    "\n",
    "USE CATALOG test_catalog;\n",
    "USE SCHEMA bronze;\n",
    "\n",
    "CREATE TABLE IF NOT EXISTS historical_users_rf\n",
    "SELECT *\n",
    "FROM read_files(\n",
    "  'dbfs:/mnt/dbacademy-datasets/data-engineer-learning-path/v02/ecommerce/raw/users-historical',\n",
    "  format => 'parquet'\n",
    ");\n",
    "\n",
    "-- preview\n",
    "SELECT *\n",
    "FROM historical_users_rf\n",
    "LIMIT 10;"
   ]
  },
  {
   "cell_type": "code",
   "execution_count": 0,
   "metadata": {
    "application/vnd.databricks.v1+cell": {
     "cellMetadata": {
      "byteLimit": 2048000,
      "rowLimit": 10000
     },
     "collapsed": true,
     "inputWidgets": {},
     "nuid": "6d7faad7-3423-40ca-a5df-9199e35a633a",
     "showTitle": false,
     "tableResultSettingsMap": {},
     "title": ""
    }
   },
   "outputs": [],
   "source": [
    "DESCRIBE TABLE EXTENDED historical_users_rf;"
   ]
  },
  {
   "cell_type": "code",
   "execution_count": 0,
   "metadata": {
    "application/vnd.databricks.v1+cell": {
     "cellMetadata": {
      "byteLimit": 2048000,
      "rowLimit": 10000
     },
     "inputWidgets": {},
     "nuid": "776dbf89-3b04-4e10-be24-32d18cb30ab6",
     "showTitle": true,
     "tableResultSettingsMap": {},
     "title": "python ingestion"
    }
   },
   "outputs": [],
   "source": [
    "%python\n",
    "# read source\n",
    "df = (\n",
    "    spark\n",
    "    .read\n",
    "    .format('parquet')\n",
    "    .load('dbfs:/mnt/dbacademy-datasets/data-engineer-learning-path/v02/ecommerce/raw/users-historical')\n",
    ")\n",
    "# write table\n",
    "(\n",
    "    df\n",
    "    .write\n",
    "    .mode('overwrite')\n",
    "    .saveAsTable('test_catalog.bronze.historical_users_py')\n",
    ")\n",
    "# review table\n",
    "historical_users = spark.table('test_catalog.bronze.historical_users_py')\n",
    "historical_users.show(5)"
   ]
  },
  {
   "cell_type": "code",
   "execution_count": 0,
   "metadata": {
    "application/vnd.databricks.v1+cell": {
     "cellMetadata": {
      "byteLimit": 2048000,
      "rowLimit": 10000
     },
     "inputWidgets": {},
     "nuid": "aa7180b0-248f-49f4-9285-fd2b2b927739",
     "showTitle": true,
     "tableResultSettingsMap": {},
     "title": "copy into schema mismatch"
    }
   },
   "outputs": [],
   "source": [
    "-- clean up\n",
    "DROP TABLE IF EXISTS historical_users_ci;\n",
    "-- create table\n",
    "CREATE TABLE historical_users_ci (\n",
    "  user_id STRING,\n",
    "  user_first_touch_timestamp BIGINT\n",
    ");\n",
    "-- COPY INTO table using path from widget\n",
    "COPY INTO historical_users_ci\n",
    "FROM '${path}'\n",
    "FILEFORMAT = PARQUET\n",
    "COPY_OPTIONS (\n",
    "  'mergeSchema' = 'true'\n",
    ");"
   ]
  },
  {
   "cell_type": "code",
   "execution_count": 0,
   "metadata": {
    "application/vnd.databricks.v1+cell": {
     "cellMetadata": {
      "byteLimit": 2048000,
      "rowLimit": 10000
     },
     "inputWidgets": {},
     "nuid": "39ba7252-e367-4289-8458-3e2ac1eb2cc8",
     "showTitle": true,
     "tableResultSettingsMap": {},
     "title": "test idempotency"
    }
   },
   "outputs": [],
   "source": [
    "-- COPY INTO table again with unchanged src data\n",
    "COPY INTO historical_users_ci\n",
    "FROM '${path}'\n",
    "FILEFORMAT = PARQUET\n",
    "COPY_OPTIONS (\n",
    "  'mergeSchema' = 'true'\n",
    ");"
   ]
  }
 ],
 "metadata": {
  "application/vnd.databricks.v1+notebook": {
   "computePreferences": null,
   "dashboards": [],
   "environmentMetadata": {
    "base_environment": "",
    "environment_version": "2"
   },
   "inputWidgetPreferences": null,
   "language": "sql",
   "notebookMetadata": {
    "mostRecentlyExecutedCommandWithImplicitDF": {
     "commandId": -1,
     "dataframes": [
      "_sqldf"
     ]
    },
    "pythonIndentUnit": 4
   },
   "notebookName": "02 Data Ingestion with CREATE TABLE AS and COPY INTO",
   "widgets": {
    "catalog": {
     "currentValue": "test_catalog",
     "nuid": "d09825d4-0e2f-405a-ae30-4554e17ace52",
     "typedWidgetInfo": {
      "autoCreated": false,
      "defaultValue": "test_catalog",
      "label": null,
      "name": "catalog",
      "options": {
       "widgetDisplayType": "Text",
       "validationRegex": null
      },
      "parameterDataType": "String"
     },
     "widgetInfo": {
      "widgetType": "text",
      "defaultValue": "test_catalog",
      "label": null,
      "name": "catalog",
      "options": {
       "widgetType": "text",
       "autoCreated": false,
       "validationRegex": null
      }
     }
    },
    "path": {
     "currentValue": "dbfs:/mnt/dbacademy-datasets/data-engineer-learning-path/v02/ecommerce/raw/users-historical",
     "nuid": "c5354a72-4155-4dde-a2c2-7923fd7e1062",
     "typedWidgetInfo": {
      "autoCreated": false,
      "defaultValue": "dbfs:/mnt/dbacademy-datasets/data-engineer-learning-path/v02/ecommerce/raw/users-historical",
      "label": null,
      "name": "path",
      "options": {
       "widgetDisplayType": "Text",
       "validationRegex": null
      },
      "parameterDataType": "String"
     },
     "widgetInfo": {
      "widgetType": "text",
      "defaultValue": "dbfs:/mnt/dbacademy-datasets/data-engineer-learning-path/v02/ecommerce/raw/users-historical",
      "label": null,
      "name": "path",
      "options": {
       "widgetType": "text",
       "autoCreated": false,
       "validationRegex": null
      }
     }
    },
    "schema": {
     "currentValue": "bronze",
     "nuid": "bc9cf9f5-58c1-4fec-a75a-2d3b9a425d1c",
     "typedWidgetInfo": {
      "autoCreated": false,
      "defaultValue": "bronze",
      "label": null,
      "name": "schema",
      "options": {
       "widgetDisplayType": "Text",
       "validationRegex": null
      },
      "parameterDataType": "String"
     },
     "widgetInfo": {
      "widgetType": "text",
      "defaultValue": "bronze",
      "label": null,
      "name": "schema",
      "options": {
       "widgetType": "text",
       "autoCreated": false,
       "validationRegex": null
      }
     }
    }
   }
  },
  "language_info": {
   "name": "sql"
  }
 },
 "nbformat": 4,
 "nbformat_minor": 0
}
