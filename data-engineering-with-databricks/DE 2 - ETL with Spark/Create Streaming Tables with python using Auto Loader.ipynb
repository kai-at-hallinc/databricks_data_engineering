{
 "cells": [
  {
   "cell_type": "code",
   "execution_count": 0,
   "metadata": {
    "application/vnd.databricks.v1+cell": {
     "cellMetadata": {
      "byteLimit": 2048000,
      "rowLimit": 10000
     },
     "inputWidgets": {},
     "nuid": "a2d0d36d-b8ad-4323-8c81-418e3aad1ce9",
     "showTitle": true,
     "tableResultSettingsMap": {},
     "title": "staging volume"
    }
   },
   "outputs": [],
   "source": [
    "sql = \"\"\"\n",
    "CREATE VOLUME IF NOT EXISTS test_catalog.landing.csv_staging_volume;\n",
    "\"\"\"\n",
    "spark.sql(sql)\n",
    "\n",
    "dbutils.fs.cp(\n",
    "    \"dbfs:/mnt/dbacademy-datasets/data-engineer-learning-path/v02/ecommerce/raw/csv_staging\",\n",
    "    \"/Volumes/test_catalog/landing/csv_staging_volume/sales\",\n",
    "    recurse=True,\n",
    ")"
   ]
  },
  {
   "cell_type": "code",
   "execution_count": 0,
   "metadata": {
    "application/vnd.databricks.v1+cell": {
     "cellMetadata": {
      "byteLimit": 2048000,
      "rowLimit": 10000
     },
     "inputWidgets": {},
     "nuid": "087f65cc-db9d-4bca-bb6b-b7fa806b6363",
     "showTitle": true,
     "tableResultSettingsMap": {},
     "title": "source volume"
    }
   },
   "outputs": [],
   "source": [
    "sql = \"\"\"\n",
    "CREATE VOLUME IF NOT EXISTS test_catalog.landing.csv_source_volume\n",
    "\"\"\"\n",
    "spark.sql(sql)\n",
    "\n",
    "dbutils.fs.cp(\n",
    "    \"dbfs:/mnt/dbacademy-datasets/data-engineer-learning-path/v02/ecommerce/raw/sales-csv\",\n",
    "     \"/Volumes/test_catalog/landing/csv_source_volume/sales\",\n",
    "    recurse=True\n",
    ")"
   ]
  },
  {
   "cell_type": "code",
   "execution_count": 0,
   "metadata": {
    "application/vnd.databricks.v1+cell": {
     "cellMetadata": {
      "byteLimit": 2048000,
      "rowLimit": 10000
     },
     "inputWidgets": {},
     "nuid": "6725df76-c68c-4f30-8598-1833480c99d1",
     "showTitle": true,
     "tableResultSettingsMap": {},
     "title": "checkpoint volume"
    }
   },
   "outputs": [],
   "source": [
    "sql = \"\"\"\n",
    "CREATE VOLUME IF NOT EXISTS test_catalog.landing.csv_checkpoint_volume\n",
    "\"\"\"\n",
    "spark.sql(sql)"
   ]
  },
  {
   "cell_type": "code",
   "execution_count": 0,
   "metadata": {
    "application/vnd.databricks.v1+cell": {
     "cellMetadata": {
      "byteLimit": 2048000,
      "implicitDf": true,
      "rowLimit": 10000
     },
     "inputWidgets": {},
     "nuid": "c1f4f49d-b17c-4457-b5d0-d3f3d201d5bd",
     "showTitle": false,
     "tableResultSettingsMap": {},
     "title": ""
    }
   },
   "outputs": [],
   "source": [
    "%sql\n",
    "DROP TABLE IF EXISTS test_catalog.bronze.python_csv_autoloader;"
   ]
  },
  {
   "cell_type": "code",
   "execution_count": 0,
   "metadata": {
    "application/vnd.databricks.v1+cell": {
     "cellMetadata": {
      "byteLimit": 2048000,
      "rowLimit": 10000
     },
     "inputWidgets": {},
     "nuid": "c5738e4a-3ac0-4d8e-9070-a58582900a84",
     "showTitle": false,
     "tableResultSettingsMap": {},
     "title": ""
    }
   },
   "outputs": [],
   "source": [
    "checkpoint_file_location = \"/Volumes/test_catalog/landing/csv_checkpoint_volume/sales\"\n",
    "src_file_location = \"/Volumes/test_catalog/landing/csv_source_volume/sales\"\n",
    "\n",
    "# load data\n",
    "(spark\n",
    "    .readStream\n",
    "        .format(\"cloudFiles\")\n",
    "        .option(\"cloudFiles.format\", \"csv\")\n",
    "        .option(\"header\", \"true\")\n",
    "        .option(\"sep\", \"|\")\n",
    "        .option(\"inferSchema\", \"true\")\n",
    "        .option(\"cloudFiles.schemaLocation\", f\"{checkpoint_file_location}\")\n",
    "        .load(f\"{src_file_location}\")\n",
    "    .writeStream\n",
    "        .format(\"delta\")\n",
    "        .option(\"checkpointLocation\", f\"{checkpoint_file_location}\")\n",
    "        .trigger(once=True)\n",
    "        .outputMode(\"Append\")\n",
    "        .toTable(\"test_catalog.bronze.python_csv_autoloader\")\n",
    ")"
   ]
  },
  {
   "cell_type": "code",
   "execution_count": 0,
   "metadata": {
    "application/vnd.databricks.v1+cell": {
     "cellMetadata": {
      "byteLimit": 2048000,
      "implicitDf": true,
      "rowLimit": 10000
     },
     "inputWidgets": {},
     "nuid": "2a99ed06-a8f7-43f9-a6aa-7831be2da01f",
     "showTitle": false,
     "tableResultSettingsMap": {
      "0": {
       "dataGridStateBlob": "{\"version\":1,\"tableState\":{\"columnPinning\":{\"left\":[\"#row_number#\"],\"right\":[]},\"columnSizing\":{\"operationMetrics\":599},\"columnVisibility\":{}},\"settings\":{\"columns\":{}},\"syncTimestamp\":1753332024291}",
       "filterBlob": null,
       "queryPlanFiltersBlob": null,
       "tableResultIndex": 0
      }
     },
     "title": ""
    }
   },
   "outputs": [],
   "source": [
    "%sql\n",
    "DESCRIBE HISTORY test_catalog.bronze.python_csv_autoloader;"
   ]
  },
  {
   "cell_type": "code",
   "execution_count": 0,
   "metadata": {
    "application/vnd.databricks.v1+cell": {
     "cellMetadata": {
      "byteLimit": 2048000,
      "rowLimit": 10000
     },
     "collapsed": true,
     "inputWidgets": {},
     "nuid": "5cd97bc4-a3be-43ec-9611-6bf6f632f79b",
     "showTitle": true,
     "tableResultSettingsMap": {},
     "title": "copy more files"
    }
   },
   "outputs": [],
   "source": [
    "target = '/Volumes/test_catalog/landing/csv_source_volume'\n",
    "file_1 = '/Volumes/test_catalog/landing/csv_staging_volume/001.csv'\n",
    "file_2 = '/Volumes/test_catalog/landing/csv_staging_volume/002.csv'\n",
    "file_3 = '/Volumes/test_catalog/landing/csv_staging_volume/003.csv'\n",
    "\n",
    "dbutils.fs.cp(file_1, target)"
   ]
  }
 ],
 "metadata": {
  "application/vnd.databricks.v1+notebook": {
   "computePreferences": null,
   "dashboards": [],
   "environmentMetadata": {
    "base_environment": "",
    "environment_version": "2"
   },
   "inputWidgetPreferences": null,
   "language": "python",
   "notebookMetadata": {
    "mostRecentlyExecutedCommandWithImplicitDF": {
     "commandId": 7550557920951022,
     "dataframes": [
      "_sqldf"
     ]
    },
    "pythonIndentUnit": 4
   },
   "notebookName": "Create Streaming Tables with python using Auto Loader",
   "widgets": {}
  },
  "language_info": {
   "name": "python"
  }
 },
 "nbformat": 4,
 "nbformat_minor": 0
}
