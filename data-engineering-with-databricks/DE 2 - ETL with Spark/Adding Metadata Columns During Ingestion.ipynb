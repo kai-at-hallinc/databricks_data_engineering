{
 "cells": [
  {
   "cell_type": "code",
   "execution_count": 0,
   "metadata": {
    "application/vnd.databricks.v1+cell": {
     "cellMetadata": {
      "byteLimit": 2048000,
      "rowLimit": 10000
     },
     "inputWidgets": {},
     "nuid": "7b78718b-10c2-4170-8f38-ff5d2a30bf71",
     "showTitle": true,
     "tableResultSettingsMap": {},
     "title": "source volume"
    }
   },
   "outputs": [],
   "source": [
    "sql = \"\"\"\n",
    "CREATE VOLUME IF NOT EXISTS test_catalog.landing.parquet_source_volume;\n",
    "\"\"\"\n",
    "spark.sql(sql)\n",
    "\n",
    "volume_path = \"/Volumes/test_catalog/landing/parquet_source_volume\"\n",
    "files = dbutils.fs.ls(volume_path)\n",
    "\n",
    "if len(files) == 0:\n",
    "    dbutils.fs.cp(\n",
    "        \"dbfs:/mnt/dbacademy-datasets/data-engineer-learning-path/v02/ecommerce/raw/users-historical/\",\n",
    "        f\"{volume_path}/sales_historical\",\n",
    "        recurse=True,\n",
    "    )"
   ]
  },
  {
   "cell_type": "code",
   "execution_count": 0,
   "metadata": {
    "application/vnd.databricks.v1+cell": {
     "cellMetadata": {
      "byteLimit": 2048000,
      "rowLimit": 10000
     },
     "inputWidgets": {},
     "nuid": "0a521248-ffa6-4f5d-b8e1-865b1189f19e",
     "showTitle": true,
     "tableResultSettingsMap": {},
     "title": "checkpoint volume"
    }
   },
   "outputs": [],
   "source": [
    "sql = \"\"\"\n",
    "CREATE VOLUME IF NOT EXISTS test_catalog.landing.parquet_checkpoint_volume\n",
    "\"\"\"\n",
    "spark.sql(sql)"
   ]
  },
  {
   "cell_type": "code",
   "execution_count": 0,
   "metadata": {
    "application/vnd.databricks.v1+cell": {
     "cellMetadata": {
      "byteLimit": 2048000,
      "rowLimit": 10000
     },
     "inputWidgets": {},
     "nuid": "f82dac81-1edd-4306-8105-077dfa5116b5",
     "showTitle": true,
     "tableResultSettingsMap": {
      "0": {
       "dataGridStateBlob": "{\"version\":1,\"tableState\":{\"columnPinning\":{\"left\":[\"#row_number#\"],\"right\":[]},\"columnSizing\":{\"user_first_touch_timestamp\":135,\"user_first_touch_date\":103,\"email\":147},\"columnVisibility\":{}},\"settings\":{\"columns\":{}},\"syncTimestamp\":1753334339942}",
       "filterBlob": null,
       "queryPlanFiltersBlob": null,
       "tableResultIndex": 0
      }
     },
     "title": "ingest with metadata"
    }
   },
   "outputs": [],
   "source": [
    "from pyspark.sql.functions import col, from_unixtime, current_timestamp\n",
    "from pyspark.sql.types import DateType\n",
    "\n",
    "# read from cliud storage\n",
    "df = (spark\n",
    "    .read\n",
    "    .format(\"parquet\")\n",
    "    .option(\"rescuedDataColumn\", \"_rescued_data\")\n",
    "    .load(\"/Volumes/test_catalog/landing/parquet_source_volume/sales_historical\")\n",
    ")\n",
    "\n",
    "# add metadata columns\n",
    "df_with_meta = (\n",
    "    df\n",
    "    .withColumn(\"user_first_touch_date\", from_unixtime(col(\"user_first_touch_timestamp\") / 1_000_000).cast(DateType()))\n",
    "    .withColumn(\"file_modification_time\", col(\"_metadata.file_modification_time\"))\n",
    "    .withColumn(\"source_file\", col(\"_metadata.file_name\"))\n",
    "    .withColumn(\"ingest_time\", current_timestamp())\n",
    ")\n",
    "\n",
    "# write to delta\n",
    "(df_with_meta\n",
    "    .write\n",
    "    .format(\"delta\")\n",
    "    .option(\"mergeSchema\", \"true\")\n",
    "    .mode(\"overwrite\")\n",
    "    .saveAsTable(\"test_catalog.bronze.historical_users\")\n",
    ")\n",
    "\n",
    "# read and display\n",
    "test_catalog_bronze_historical_users = spark.table(\"test_catalog.bronze.historical_users\")\n",
    "display(test_catalog_bronze_historical_users)"
   ]
  }
 ],
 "metadata": {
  "application/vnd.databricks.v1+notebook": {
   "computePreferences": null,
   "dashboards": [],
   "environmentMetadata": {
    "base_environment": "",
    "environment_version": "2"
   },
   "inputWidgetPreferences": null,
   "language": "python",
   "notebookMetadata": {
    "pythonIndentUnit": 4
   },
   "notebookName": "Adding Metadata Columns During Ingestion",
   "widgets": {}
  },
  "language_info": {
   "name": "python"
  }
 },
 "nbformat": 4,
 "nbformat_minor": 0
}
