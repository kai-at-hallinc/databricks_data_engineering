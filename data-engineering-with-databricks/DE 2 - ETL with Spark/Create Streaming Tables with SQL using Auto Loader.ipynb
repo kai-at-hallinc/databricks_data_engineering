{
 "cells": [
  {
   "cell_type": "code",
   "execution_count": 0,
   "metadata": {
    "application/vnd.databricks.v1+cell": {
     "cellMetadata": {
      "byteLimit": 2048000,
      "rowLimit": 10000
     },
     "inputWidgets": {},
     "nuid": "b7a74f10-2243-4ed7-a0bc-a1736da1af44",
     "showTitle": true,
     "tableResultSettingsMap": {},
     "title": "create streaming table"
    }
   },
   "outputs": [],
   "source": [
    "CREATE OR REFRESH STREAMING TABLE sql_csv_autoloader AS\n",
    "SELECT\n",
    "\t*\n",
    "FROM\n",
    "\tSTREAM READ_FILES(\n",
    "\t\t'dbfs:/mnt/dbacademy-datasets/data-engineer-learning-path/v02/ecommerce/raw/sales-csv',\n",
    "\t\tformat => 'CSV',\n",
    "\t\tsep => '|',\n",
    "\t\theader => TRUE\n",
    "\t);"
   ]
  },
  {
   "cell_type": "code",
   "execution_count": 0,
   "metadata": {
    "application/vnd.databricks.v1+cell": {
     "cellMetadata": {
      "byteLimit": 2048000,
      "rowLimit": 10000
     },
     "collapsed": true,
     "inputWidgets": {},
     "nuid": "d1e9eba7-5613-45b5-a64f-eb2a4f988477",
     "showTitle": false,
     "tableResultSettingsMap": {},
     "title": ""
    }
   },
   "outputs": [],
   "source": [
    "--DESCRIBE HISTORY test_catalog.bronze.sql_csv_autoloader;"
   ]
  }
 ],
 "metadata": {
  "application/vnd.databricks.v1+notebook": {
   "computePreferences": null,
   "dashboards": [],
   "environmentMetadata": {
    "base_environment": "",
    "environment_version": "2"
   },
   "inputWidgetPreferences": null,
   "language": "sql",
   "notebookMetadata": {
    "pythonIndentUnit": 4,
    "widgetLayout": [
     {
      "breakBefore": false,
      "name": "catalog",
      "width": 204
     },
     {
      "breakBefore": false,
      "name": "path",
      "width": 204
     },
     {
      "breakBefore": false,
      "name": "schema",
      "width": 204
     }
    ]
   },
   "notebookName": "Create Streaming Tables with SQL using Auto Loader",
   "widgets": {}
  },
  "language_info": {
   "name": "sql"
  }
 },
 "nbformat": 4,
 "nbformat_minor": 0
}
