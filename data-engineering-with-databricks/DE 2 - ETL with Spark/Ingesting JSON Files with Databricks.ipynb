{
 "cells": [
  {
   "cell_type": "code",
   "execution_count": 0,
   "metadata": {
    "application/vnd.databricks.v1+cell": {
     "cellMetadata": {
      "byteLimit": 2048000,
      "rowLimit": 10000
     },
     "collapsed": true,
     "inputWidgets": {},
     "nuid": "f1893941-e367-4203-9674-e59a2b53ce6f",
     "showTitle": true,
     "tableResultSettingsMap": {},
     "title": "check file location"
    }
   },
   "outputs": [],
   "source": [
    "%python\n",
    "dbutils.fs.ls(\"dbfs:/mnt/dbacademy-datasets/data-engineer-learning-path/v02/ecommerce/raw/events-kafka/\")"
   ]
  },
  {
   "cell_type": "code",
   "execution_count": 0,
   "metadata": {
    "application/vnd.databricks.v1+cell": {
     "cellMetadata": {
      "byteLimit": 2048000,
      "rowLimit": 10000
     },
     "inputWidgets": {},
     "nuid": "46df115b-b371-4d0c-9497-f76a1abff5e9",
     "showTitle": true,
     "tableResultSettingsMap": {},
     "title": "get data from dbfs"
    }
   },
   "outputs": [],
   "source": [
    "%python\n",
    "# volume for json files\n",
    "sql = \"\"\"\n",
    "CREATE VOLUME IF NOT EXISTS test_catalog.landing.json_source_volume;\n",
    "\"\"\"\n",
    "spark.sql(sql)\n",
    "\n",
    "dbfs_path = \"dbfs:/mnt/dbacademy-datasets/data-engineer-learning-path/v02/ecommerce/raw/events-kafka/\"\n",
    "volume_path = \"/Volumes/test_catalog/landing/json_source_volume\"\n",
    "files = dbutils.fs.ls(volume_path)\n",
    "\n",
    "if len(files) == 0:\n",
    "    dbutils.fs.cp(\n",
    "        dbfs_path,\n",
    "        f\"{volume_path}/events\",\n",
    "        recurse=True,\n",
    "    )\n",
    "\n",
    "# checkpoint location\n",
    "sql = \"\"\"\n",
    "CREATE VOLUME IF NOT EXISTS test_catalog.landing.json_checkpoint_volume\n",
    "\"\"\"\n",
    "spark.sql(sql)"
   ]
  },
  {
   "cell_type": "code",
   "execution_count": 0,
   "metadata": {
    "application/vnd.databricks.v1+cell": {
     "cellMetadata": {
      "byteLimit": 2048000,
      "implicitDf": true,
      "rowLimit": 10000
     },
     "inputWidgets": {},
     "nuid": "88225b1e-a3d6-4f1a-8a9b-c9855cd77bc2",
     "showTitle": true,
     "tableResultSettingsMap": {},
     "title": "create table"
    }
   },
   "outputs": [],
   "source": [
    "%sql\n",
    "\n",
    "-- create table\n",
    "CREATE TABLE IF NOT EXISTS test_catalog.bronze.kafka_events_raw AS\n",
    "SELECT\n",
    "\t*\n",
    "FROM\n",
    "\tREAD_FILES(\"/Volumes/test_catalog/landing/json_source_volume/events/\", format => \"json\");\n",
    "\n",
    "-- review\n",
    "SELECT\n",
    "\t*\n",
    "FROM\n",
    "\ttest_catalog.bronze.kafka_events_raw\n",
    "LIMIT 5"
   ]
  },
  {
   "cell_type": "code",
   "execution_count": 0,
   "metadata": {
    "application/vnd.databricks.v1+cell": {
     "cellMetadata": {
      "byteLimit": 2048000,
      "rowLimit": 10000
     },
     "inputWidgets": {},
     "nuid": "34e78b5a-ea0c-4839-a284-e48b8ac6b71b",
     "showTitle": true,
     "tableResultSettingsMap": {
      "0": {
       "dataGridStateBlob": "{\"version\":1,\"tableState\":{\"columnPinning\":{\"left\":[\"#row_number#\"],\"right\":[]},\"columnSizing\":{\"partition\":90},\"columnVisibility\":{}},\"settings\":{\"columns\":{}},\"syncTimestamp\":1753338858714}",
       "filterBlob": null,
       "queryPlanFiltersBlob": null,
       "tableResultIndex": 0
      }
     },
     "title": "create decoded table"
    }
   },
   "outputs": [],
   "source": [
    "-- create\n",
    "CREATE TABLE IF NOT EXISTS test_catalog.bronze.kafka_events_decoded AS\n",
    "SELECT\n",
    "\tCAST(UNBASE64(key) AS STRING) AS decoded_key,\n",
    "\toffset,\n",
    "\tpartition,\n",
    "\ttimestamp,\n",
    "\ttopic,\n",
    "\tCAST(UNBASE64(value) AS STRING) AS decoded_value\n",
    "FROM\n",
    "\ttest_catalog.bronze.kafka_events_raw;\n",
    "\n",
    "--review\n",
    "SELECT\n",
    "\t*\n",
    "FROM\n",
    "\ttest_catalog.bronze.kafka_events_decoded\n",
    "WHERE decoded_value:ecommerce != '{}'\n",
    ";"
   ]
  },
  {
   "cell_type": "code",
   "execution_count": 0,
   "metadata": {
    "application/vnd.databricks.v1+cell": {
     "cellMetadata": {
      "byteLimit": 2048000,
      "rowLimit": 10000
     },
     "collapsed": true,
     "inputWidgets": {},
     "nuid": "c8951f56-8e62-407b-9194-7e3af768de04",
     "showTitle": true,
     "tableResultSettingsMap": {
      "0": {
       "dataGridStateBlob": "{\"version\":1,\"tableState\":{\"columnPinning\":{\"left\":[\"#row_number#\"],\"right\":[]},\"columnSizing\":{\"decoded_value\":259},\"columnVisibility\":{}},\"settings\":{\"columns\":{}},\"syncTimestamp\":1753339219480}",
       "filterBlob": null,
       "queryPlanFiltersBlob": null,
       "tableResultIndex": 0
      }
     },
     "title": "flatten json string"
    }
   },
   "outputs": [],
   "source": [
    "CREATE OR REPLACE TABLE test_catalog.bronze.kafka_events_flat AS\n",
    "SELECT\n",
    "  offset,\n",
    "  partition,\n",
    "  timestamp,\n",
    "  topic,\n",
    "  decoded_value:device,\n",
    "  decoded_value:traffic_source,\n",
    "  decoded_value:geo,\n",
    "  decoded_value:items\n",
    "FROM\n",
    "  test_catalog.bronze.kafka_events_decoded;\n",
    "\n",
    "--display the table\n",
    "SELECT * FROM test_catalog.bronze.kafka_events_flat\n",
    "LIMIT 5;"
   ]
  },
  {
   "cell_type": "code",
   "execution_count": 0,
   "metadata": {
    "application/vnd.databricks.v1+cell": {
     "cellMetadata": {
      "byteLimit": 2048000,
      "rowLimit": 10000
     },
     "collapsed": true,
     "inputWidgets": {},
     "nuid": "d7600a07-2081-4ade-a400-e611683522c7",
     "showTitle": true,
     "tableResultSettingsMap": {
      "0": {
       "dataGridStateBlob": "{\"version\":1,\"tableState\":{\"columnPinning\":{\"left\":[\"#row_number#\"],\"right\":[]},\"columnSizing\":{},\"columnVisibility\":{}},\"settings\":{\"columns\":{}},\"syncTimestamp\":1753340096905}",
       "filterBlob": null,
       "queryPlanFiltersBlob": null,
       "tableResultIndex": 0
      }
     },
     "title": "get schema"
    }
   },
   "outputs": [],
   "source": [
    "SELECT \n",
    "  schema_of_json('{\"device\":\"iOS\",\"ecommerce\":{\"purchase_revenue_in_usd\":1045.0,\"total_item_quantity\":1,\"unique_items\":1},\"event_name\":\"finalize\",\"event_previous_timestamp\":1593878151318620,\"event_timestamp\":1593880248917941,\"geo\":{\"city\":\"Palm Coast\",\"state\":\"FL\"},\"items\":[{\"item_id\":\"M_STAN_Q\",\"item_name\":\"Standard Queen Mattress\",\"item_revenue_in_usd\":1045.0,\"price_in_usd\":1045.0,\"quantity\":1}],\"traffic_source\":\"google\",\"user_first_touch_timestamp\":1593869826469659,\"user_id\":\"UA000000107305675\"}') \n",
    "AS schema\n"
   ]
  },
  {
   "cell_type": "code",
   "execution_count": 0,
   "metadata": {
    "application/vnd.databricks.v1+cell": {
     "cellMetadata": {
      "byteLimit": 2048000,
      "rowLimit": 10000
     },
     "collapsed": true,
     "inputWidgets": {},
     "nuid": "10d6aebb-4bbf-4779-8f2f-1ce888f85473",
     "showTitle": true,
     "tableResultSettingsMap": {},
     "title": "create struct table"
    }
   },
   "outputs": [],
   "source": [
    "CREATE OR REPLACE TABLE test_catalog.bronze.kafka_events_struct AS\n",
    "SELECT\n",
    "  * EXCEPT (decoded_value),\n",
    "  from_json(\n",
    "    decoded_value,\n",
    "    'STRUCT<device: STRING, ecommerce: STRUCT<purchase_revenue_in_usd: DOUBLE, total_item_quantity: BIGINT, unique_items: BIGINT>, event_name: STRING, event_previous_timestamp: BIGINT, event_timestamp: BIGINT, geo: STRUCT<city: STRING, state: STRING>, items: ARRAY<STRUCT<item_id: STRING, item_name: STRING, item_revenue_in_usd: DOUBLE, price_in_usd: DOUBLE, quantity: BIGINT>>, traffic_source: STRING, user_first_touch_timestamp: BIGINT, user_id: STRING>'  \n",
    "  ) AS value\n",
    "FROM test_catalog.bronze.kafka_events_decoded;\n",
    "\n",
    "--display the table\n",
    "SELECT * FROM test_catalog.bronze.kafka_events_struct\n",
    "LIMIT 5;"
   ]
  },
  {
   "cell_type": "code",
   "execution_count": 0,
   "metadata": {
    "application/vnd.databricks.v1+cell": {
     "cellMetadata": {
      "byteLimit": 2048000,
      "rowLimit": 10000
     },
     "collapsed": true,
     "inputWidgets": {},
     "nuid": "f35144b9-37e0-4a85-8dc3-c84a82cb57ec",
     "showTitle": true,
     "tableResultSettingsMap": {},
     "title": "explode arrays"
    }
   },
   "outputs": [],
   "source": [
    "CREATE OR REPLACE TABLE test_catalog.bronze.kafka_events_exploded AS\n",
    "SELECT\n",
    "  decoded_key,\n",
    "  array_size(value.items) AS number_of_items,\n",
    "  explode(value.items) AS item,\n",
    "  value.items\n",
    "FROM\n",
    "  test_catalog.bronze.kafka_events_struct\n",
    "ORDER BY number_of_items DESC;\n",
    "\n",
    "--display\n",
    "SELECT * FROM test_catalog.bronze.kafka_events_exploded\n",
    "LIMIT 5;"
   ]
  },
  {
   "cell_type": "code",
   "execution_count": 0,
   "metadata": {
    "application/vnd.databricks.v1+cell": {
     "cellMetadata": {
      "byteLimit": 2048000,
      "rowLimit": 10000
     },
     "collapsed": true,
     "inputWidgets": {},
     "nuid": "76a09183-8e0c-4a49-98b4-39c044cc5818",
     "showTitle": true,
     "tableResultSettingsMap": {},
     "title": "exploded variant column"
    }
   },
   "outputs": [],
   "source": [
    "CREATE OR REPLACE TABLE test_catalog.bronze.kafka_events_variant AS\n",
    "SELECT\n",
    "  decoded_key,\n",
    "  offset,\n",
    "  partition,\n",
    "  timestamp,\n",
    "  topic,\n",
    "  parse_json(decoded_value) AS json_value\n",
    "FROM test_catalog.bronze.kafka_events_decoded;\n",
    "\n",
    "--review and cast type\n",
    "SELECT\n",
    "  json_value,\n",
    "  json_value:device :: STRING,\n",
    "  variant_get(exploded.value, '$.item_id') :: STRING AS item_id,\n",
    "  variant_get(exploded.value, '$.item_name') :: STRING AS item_name,\n",
    "  variant_get(exploded.value, '$.item_revenue_in_usd') :: DOUBLE AS item_revenue_in_usd,\n",
    "  variant_get(exploded.value, '$.price_in_usd') :: DOUBLE AS price_in_usd,\n",
    "  variant_get(exploded.value, '$.quantity') :: BIGINT AS quantity\n",
    "FROM test_catalog.bronze.kafka_events_variant,\n",
    "  LATERAL variant_explode(json_value:items) AS exploded\n",
    "LIMIT 5;"
   ]
  }
 ],
 "metadata": {
  "application/vnd.databricks.v1+notebook": {
   "computePreferences": null,
   "dashboards": [],
   "environmentMetadata": {
    "base_environment": "",
    "environment_version": "2"
   },
   "inputWidgetPreferences": null,
   "language": "sql",
   "notebookMetadata": {
    "mostRecentlyExecutedCommandWithImplicitDF": {
     "commandId": 7954432652783190,
     "dataframes": [
      "_sqldf"
     ]
    },
    "pythonIndentUnit": 4
   },
   "notebookName": "Ingesting JSON Files with Databricks",
   "widgets": {}
  },
  "language_info": {
   "name": "sql"
  }
 },
 "nbformat": 4,
 "nbformat_minor": 0
}
