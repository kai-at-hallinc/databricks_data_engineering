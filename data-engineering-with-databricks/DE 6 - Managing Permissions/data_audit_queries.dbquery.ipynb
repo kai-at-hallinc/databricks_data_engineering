{
 "cells": [
  {
   "cell_type": "code",
   "execution_count": 0,
   "metadata": {
    "application/vnd.databricks.v1+cell": {
     "cellMetadata": {
      "byteLimit": 10485760,
      "rowLimit": 1000
     },
     "inputWidgets": {},
     "nuid": "c6454e87-71e7-4de0-9fc1-a006c0b38bdf",
     "showTitle": false,
     "tableResultSettingsMap": {},
     "title": ""
    }
   },
   "outputs": [],
   "source": [
    "-- table names\n",
    "SELECT table_name\n",
    "FROM information_schema.tables\n",
    "WHERE table_catalog = 'test_catalog';\n",
    "\n",
    "-- table access\n",
    "SELECT \n",
    "  grantee,\n",
    "  table_name,\n",
    "  privilege_type\n",
    "FROM table_privileges;\n",
    "\n",
    "-- table edits\n",
    "SELECT\n",
    "  table_name,\n",
    "  last_altered_by,\n",
    "  last_altered\n",
    "FROM information_schema.tables\n",
    "WHERE table_schema = 'bronze'\n",
    "ORDER BY 1, 3 DESC;\n",
    "\n",
    "-- owner\n",
    "SELECT table_owner\n",
    "FROM system.information_schema.tables\n",
    "WHERE table_name = 'bronze';\n",
    "\n",
    "-- access patterns\n",
    "SELECT\n",
    "  user_identity.email,\n",
    "  count(*)\n",
    "FROM system.access.audit\n",
    "GROUP BY 1\n",
    "ORDER BY 2 DESC;\n",
    "\n",
    "-- delete\n",
    "SELECT\n",
    "  user_identity.email\n",
    "FROM system.access.audit\n",
    "WHERE action_name = \"delete\";\n",
    "\n",
    "-- timebased access\n",
    "SELECT\n",
    "  request_params.table_full_name,\n",
    "  request_params.operation,\n",
    "  event_date\n",
    "FROM system.access.audit\n",
    "WHERE action_name = \"generateTemporaryTableCredential\" AND\n",
    "      service_name = \"unityCatalog\" AND\n",
    "      date_diff(now(), event_time) < 60 AND\n",
    "      user_identity.email = \"adm-janne.eskola@finavia.fi\"\n",
    "GROUP BY\n",
    "  request_params.table_full_name,\n",
    "  request_params.operation,\n",
    "  event_date\n",
    "ORDER BY event_date DESC\n",
    ";\n",
    "\n",
    "-- most queried by user\n",
    "SELECT\n",
    "  request_params.table_full_name,\n",
    "  count(*)\n",
    "FROM system.access.audit\n",
    "WHERE user_identity.email = \"adm-janne.eskola@finavia.fi\" AND\n",
    "      action_name = \"generateTemporaryTableCredential\" AND\n",
    "      service_name = \"unityCatalog\"\n",
    "GROUP BY 1\n",
    "ORDER BY 2 DESC\n",
    "LIMIT 5;\n",
    "\n",
    "--bronze lineage\n",
    "SELECT DISTINCT target_table_full_name\n",
    "FROM system.access.table_lineage\n",
    "WHERE source_table_full_name = 'bronze.finavia_flights.diff'\n",
    ";\n",
    "\n",
    "-- queries to table\n",
    "SELECT\n",
    "  DISTINCT entity_type,\n",
    "  entity_id,\n",
    "  source_table_full_name\n",
    "FROM system.access.table_lineage\n",
    "WHERE source_table_full_name = 'bronze.finavia_flights.diff';"
   ]
  }
 ],
 "metadata": {
  "application/vnd.databricks.v1+notebook": {
   "computePreferences": null,
   "dashboards": [],
   "environmentMetadata": null,
   "inputWidgetPreferences": null,
   "language": "sql",
   "notebookMetadata": {
    "sqlQueryOptions": {
     "applyAutoLimit": true,
     "catalog": "system",
     "schema": "information_schema"
    }
   },
   "notebookName": "data_audit_queries.dbquery.ipynb",
   "widgets": {}
  },
  "language_info": {
   "name": "sql"
  }
 },
 "nbformat": 4,
 "nbformat_minor": 0
}
