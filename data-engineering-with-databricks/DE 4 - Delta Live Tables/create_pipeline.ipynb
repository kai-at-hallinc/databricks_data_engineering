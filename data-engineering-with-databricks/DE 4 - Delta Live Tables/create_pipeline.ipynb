{
 "cells": [
  {
   "cell_type": "code",
   "execution_count": 0,
   "metadata": {
    "application/vnd.databricks.v1+cell": {
     "cellMetadata": {
      "byteLimit": 2048000,
      "rowLimit": 10000
     },
     "inputWidgets": {},
     "nuid": "48b241f8-1899-4517-b233-0db2f7e0ea26",
     "showTitle": false,
     "tableResultSettingsMap": {},
     "title": ""
    }
   },
   "outputs": [],
   "source": [
    "dbutils.widgets.text(\"order\", \"/Volumes/test_catalog/landing/json_source_volume/order/\")\n",
    "dbutils.widgets.text(\"customer\", \"/Volumes/test_catalog/landing/json_source_volume/customer/\")\n",
    "dbutils.widgets.text(\"status\", \"/Volumes/test_catalog/landing/json_source_volume/status/\")"
   ]
  },
  {
   "cell_type": "code",
   "execution_count": 0,
   "metadata": {
    "application/vnd.databricks.v1+cell": {
     "cellMetadata": {
      "byteLimit": 2048000,
      "rowLimit": 10000
     },
     "inputWidgets": {},
     "nuid": "363e9f50-b0de-4cd8-98b3-2087a4c914a5",
     "showTitle": true,
     "tableResultSettingsMap": {},
     "title": "review orders"
    }
   },
   "outputs": [],
   "source": [
    "files = dbutils.widgets.get(\"order\")\n",
    "\n",
    "spark.sql(\n",
    "    f\"\"\"\n",
    "    SELECT * FROM json.`{files}`\n",
    "    \"\"\"\n",
    ").show(3)"
   ]
  },
  {
   "cell_type": "code",
   "execution_count": 0,
   "metadata": {
    "application/vnd.databricks.v1+cell": {
     "cellMetadata": {
      "byteLimit": 2048000,
      "implicitDf": true,
      "rowLimit": 10000
     },
     "collapsed": true,
     "inputWidgets": {},
     "nuid": "d3166d2a-7004-4656-84fd-e9ad9627ed6c",
     "showTitle": true,
     "tableResultSettingsMap": {},
     "title": "bronze"
    }
   },
   "outputs": [],
   "source": [
    "%sql\n",
    "CREATE OR REPLACE TABLE test_catalog.bronze.orders AS\n",
    "SELECT\n",
    "\t*,\n",
    "\tCURRENT_TIMESTAMP AS processing_time,\n",
    "\t_metadata.file_name AS source_file\n",
    "FROM\n",
    "\tREAD_FILES(\n",
    "    \"/Volumes/test_catalog/landing/json_source_volume/order/\", format => \"json\"\n",
    "  );"
   ]
  },
  {
   "cell_type": "code",
   "execution_count": 0,
   "metadata": {
    "application/vnd.databricks.v1+cell": {
     "cellMetadata": {
      "byteLimit": 2048000,
      "implicitDf": true,
      "rowLimit": 10000
     },
     "inputWidgets": {},
     "nuid": "86fbda9e-1153-4d47-9234-20468cdd8cca",
     "showTitle": true,
     "tableResultSettingsMap": {},
     "title": "silver"
    }
   },
   "outputs": [],
   "source": [
    "%sql\n",
    "CREATE OR REPLACE TABLE test_catalog.silver.orders AS\n",
    "SELECT\n",
    "  order_id,\n",
    "  timestamp(order_timestamp) AS order_timestamp,\n",
    "  customer_id,\n",
    "  notifications\n",
    "FROM test_catalog.bronze.orders;"
   ]
  },
  {
   "cell_type": "code",
   "execution_count": 0,
   "metadata": {
    "application/vnd.databricks.v1+cell": {
     "cellMetadata": {
      "byteLimit": 2048000,
      "implicitDf": true,
      "rowLimit": 10000
     },
     "inputWidgets": {},
     "nuid": "23fc73d3-0833-4698-a790-e6a7b0b7f208",
     "showTitle": true,
     "tableResultSettingsMap": {},
     "title": "gold"
    }
   },
   "outputs": [],
   "source": [
    "%sql\n",
    "CREATE OR REPLACE VIEW test_catalog.gold.orders_by_date AS\n",
    "SELECT\n",
    "  date(order_timestamp) AS order_date,\n",
    "  count(*) AS total_daily_orders\n",
    "FROM test_catalog.silver.orders\n",
    "GROUP BY date(order_timestamp)\n",
    ";"
   ]
  },
  {
   "cell_type": "code",
   "execution_count": 0,
   "metadata": {
    "application/vnd.databricks.v1+cell": {
     "cellMetadata": {
      "byteLimit": 2048000,
      "implicitDf": true,
      "rowLimit": 10000
     },
     "inputWidgets": {},
     "nuid": "720b81cf-0484-40a9-ad49-594a55ed12aa",
     "showTitle": false,
     "tableResultSettingsMap": {},
     "title": ""
    }
   },
   "outputs": [],
   "source": [
    "%sql\n",
    "SELECT * FROM test_catalog.gold.orders_by_date\n",
    "LIMIT 5\n",
    ";"
   ]
  }
 ],
 "metadata": {
  "application/vnd.databricks.v1+notebook": {
   "computePreferences": null,
   "dashboards": [],
   "environmentMetadata": {
    "base_environment": "",
    "environment_version": "3"
   },
   "inputWidgetPreferences": null,
   "language": "python",
   "notebookMetadata": {
    "mostRecentlyExecutedCommandWithImplicitDF": {
     "commandId": 8213924017750714,
     "dataframes": [
      "_sqldf"
     ]
    },
    "pythonIndentUnit": 4
   },
   "notebookName": "create_pipeline",
   "widgets": {
    "customer": {
     "currentValue": "/Volumes/test_catalog/landing/json_source_volume/customer/",
     "nuid": "3906a827-288c-4827-abb9-e70928c28ca7",
     "typedWidgetInfo": {
      "autoCreated": false,
      "defaultValue": "/Volumes/test_catalog/landing/json_source_volume/customer/",
      "label": null,
      "name": "customer",
      "options": {
       "widgetDisplayType": "Text",
       "validationRegex": null
      },
      "parameterDataType": "String"
     },
     "widgetInfo": {
      "widgetType": "text",
      "defaultValue": "/Volumes/test_catalog/landing/json_source_volume/customer/",
      "label": null,
      "name": "customer",
      "options": {
       "widgetType": "text",
       "autoCreated": false,
       "validationRegex": null
      }
     }
    },
    "order": {
     "currentValue": "/Volumes/test_catalog/landing/json_source_volume/order/",
     "nuid": "f7bed76d-ba18-4801-8861-14485b618f31",
     "typedWidgetInfo": {
      "autoCreated": false,
      "defaultValue": "/Volumes/test_catalog/landing/json_source_volume/order/",
      "label": null,
      "name": "order",
      "options": {
       "widgetDisplayType": "Text",
       "validationRegex": null
      },
      "parameterDataType": "String"
     },
     "widgetInfo": {
      "widgetType": "text",
      "defaultValue": "/Volumes/test_catalog/landing/json_source_volume/order/",
      "label": null,
      "name": "order",
      "options": {
       "widgetType": "text",
       "autoCreated": false,
       "validationRegex": null
      }
     }
    },
    "status": {
     "currentValue": "/Volumes/test_catalog/landing/json_source_volume/status/",
     "nuid": "4d0a6f72-02c7-4245-b08e-1642139d861d",
     "typedWidgetInfo": {
      "autoCreated": false,
      "defaultValue": "/Volumes/test_catalog/landing/json_source_volume/status/",
      "label": null,
      "name": "status",
      "options": {
       "widgetDisplayType": "Text",
       "validationRegex": null
      },
      "parameterDataType": "String"
     },
     "widgetInfo": {
      "widgetType": "text",
      "defaultValue": "/Volumes/test_catalog/landing/json_source_volume/status/",
      "label": null,
      "name": "status",
      "options": {
       "widgetType": "text",
       "autoCreated": false,
       "validationRegex": null
      }
     }
    }
   }
  },
  "language_info": {
   "name": "python"
  }
 },
 "nbformat": 4,
 "nbformat_minor": 0
}
