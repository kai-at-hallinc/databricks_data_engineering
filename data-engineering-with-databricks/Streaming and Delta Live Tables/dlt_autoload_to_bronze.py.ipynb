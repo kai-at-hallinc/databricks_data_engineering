{
 "cells": [
  {
   "cell_type": "code",
   "execution_count": 0,
   "metadata": {
    "application/vnd.databricks.v1+cell": {
     "cellMetadata": {
      "byteLimit": 2048000,
      "rowLimit": 10000
     },
     "inputWidgets": {},
     "nuid": "b0a545d1-e597-46c0-a5e5-92d8fcd1224d",
     "showTitle": false,
     "tableResultSettingsMap": {},
     "title": ""
    }
   },
   "outputs": [],
   "source": [
    "import dlt\n",
    "import pyspark.sql.functions as F\n",
    "\n",
    "source = spark.conf.get(\"source\")\n",
    "lookup = spark.conf.get(\"lookup\")"
   ]
  },
  {
   "cell_type": "code",
   "execution_count": 0,
   "metadata": {
    "application/vnd.databricks.v1+cell": {
     "cellMetadata": {},
     "inputWidgets": {},
     "nuid": "e7d68704-85a4-4706-be93-0086dcf6527d",
     "showTitle": false,
     "tableResultSettingsMap": {},
     "title": ""
    }
   },
   "outputs": [],
   "source": [
    "@dlt.table(\n",
    "    table_properties={\"pipelines.reset.allowed\": \"false\"}\n",
    ")\n",
    "def date_lookup():\n",
    "    return (\n",
    "        spark\n",
    "            .read\n",
    "            .format(\"delta\")\n",
    "            .load(f\"{lookup}\")\n",
    "            .select(\"date\", \"week_part\")\n",
    "    )\n",
    "@dlt.table(\n",
    "    partition_cols=[\"topic\", \"week_part\"],\n",
    "    table_properties={\n",
    "        \"quality\": \"bronze\",\n",
    "        \"pipelines.reset.allowed\": \"false\"\n",
    "    }\n",
    ")\n",
    "def bronze():\n",
    "    return(\n",
    "        spark.readStream\n",
    "            .format(\"delta\")\n",
    "            .load(f\"{source}\")\n",
    "            .join(\n",
    "                F.broadcast(dlt.read(\"date_lookup\")),\n",
    "                F.to_date((F.col(\"timestamp\")/1000).cast(\"timestamp\")) == F.col(\"date\"),\n",
    "                \"left\"\n",
    "            )\n",
    "    )\n",
    "\n",
    "@dlt.table(\n",
    "    table_properties={\"quality\": \"bronze\"})\n",
    "def distinct_topics():\n",
    "    return dlt.read(\"bronze\").select(\"topic\").distinct()"
   ]
  }
 ],
 "metadata": {
  "application/vnd.databricks.v1+notebook": {
   "computePreferences": null,
   "dashboards": [],
   "environmentMetadata": {
    "base_environment": "",
    "environment_version": "2"
   },
   "inputWidgetPreferences": null,
   "language": "python",
   "notebookMetadata": {
    "mostRecentlyExecutedCommandWithImplicitDF": {
     "commandId": -1,
     "dataframes": [
      "_sqldf"
     ]
    },
    "pythonIndentUnit": 4
   },
   "notebookName": "dlt_autoload_to_bronze.py",
   "widgets": {}
  },
  "language_info": {
   "name": "python"
  }
 },
 "nbformat": 4,
 "nbformat_minor": 0
}
