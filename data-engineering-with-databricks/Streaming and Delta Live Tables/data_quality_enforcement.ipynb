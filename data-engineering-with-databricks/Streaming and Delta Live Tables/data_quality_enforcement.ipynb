{
 "cells": [
  {
   "cell_type": "code",
   "execution_count": 0,
   "metadata": {
    "application/vnd.databricks.v1+cell": {
     "cellMetadata": {},
     "inputWidgets": {},
     "nuid": "482cff93-acc4-4e5a-8966-c413d2bf5fa0",
     "showTitle": false,
     "tableResultSettingsMap": {},
     "title": ""
    }
   },
   "outputs": [],
   "source": [
    "import dlt\n",
    "from pyspark.sql.functions import when, col\n",
    "\n",
    "rules = {\n",
    "    \"valid_heart_rate\": \"heartrate IS NOT NULL\",\n",
    "    \"valid_device_id\": \"device_id IS NOT NULL\",\n",
    "    \"valid_device_id_range\": \"device_id > 110000\",\n",
    "}\n",
    "\n",
    "@dlt.table(\n",
    "    table_properties={\"quality\": \"silver\"},\n",
    "    name=\"test_catalog.silver.bpm_silver\"\n",
    ")\n",
    "@dlt.expect_all_or_drop(rules)\n",
    "def bpm_silver():\n",
    "    return (\n",
    "        dlt.read_stream(\"test_catalog.bronze.bpm_bronze\")\n",
    "        .select(\n",
    "            \"*\",\n",
    "            when(col(\"heartrate\") <= 0, \"negative BPM\")\n",
    "            .otherwise(\"OK\")\n",
    "            .alias(\"bpm_check\"),\n",
    "        )\n",
    "        .withWatermark(\"time\", \"30 seconds\")\n",
    "        .dropDuplicates([\"time\", \"device_id\"])\n",
    "    )\n"
   ]
  },
  {
   "cell_type": "code",
   "execution_count": 0,
   "metadata": {
    "application/vnd.databricks.v1+cell": {
     "cellMetadata": {},
     "inputWidgets": {},
     "nuid": "a1e38b43-a5c5-4682-9f90-1462af35c962",
     "showTitle": false,
     "tableResultSettingsMap": {},
     "title": ""
    }
   },
   "outputs": [],
   "source": [
    "quarantine_rules = {}\n",
    "quarantine_rules[\"invalid_records\"] = f\"NOT({' AND '.join(rules.values())})\"\n",
    "\n",
    "@dlt.table(\n",
    "    table_properties={\"quality\": \"silver\"},\n",
    "    name=\"test_catalog.silver.bpm_quarantine\"\n",
    ")\n",
    "@dlt.expect_all_or_drop(quarantine_rules)\n",
    "def bpm_quarantine():\n",
    "    return(\n",
    "        dlt.read_stream(\"test_catalog.bronze.bpm_bronze\")\n",
    "    )"
   ]
  }
 ],
 "metadata": {
  "application/vnd.databricks.v1+notebook": {
   "computePreferences": null,
   "dashboards": [],
   "environmentMetadata": {
    "base_environment": "",
    "environment_version": "2"
   },
   "inputWidgetPreferences": null,
   "language": "python",
   "notebookMetadata": {
    "pythonIndentUnit": 4
   },
   "notebookName": "data_quality_enforcement",
   "widgets": {}
  },
  "language_info": {
   "name": "python"
  }
 },
 "nbformat": 4,
 "nbformat_minor": 0
}
